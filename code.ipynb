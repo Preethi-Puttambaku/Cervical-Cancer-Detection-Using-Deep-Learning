{
 "cells": [
  {
   "cell_type": "code",
   "execution_count": 2,
   "metadata": {},
   "outputs": [],
   "source": [
    "from tensorflow.keras.layers import Conv2D,Flatten,Dense,MaxPool2D,BatchNormalization,GlobalAveragePooling2D\n",
    "from tensorflow.keras.applications.resnet50 import preprocess_input,decode_predictions\n",
    "from tensorflow.keras.preprocessing.image import ImageDataGenerator,load_img\n",
    "from tensorflow.keras.applications.resnet50 import ResNet50\n",
    "from tensorflow.keras.applications import MobileNet\n",
    "from tensorflow.keras.layers import GlobalAveragePooling2D, Dense\n",
    "from tensorflow.keras.optimizers import Adam\n",
    "from tensorflow.keras.preprocessing import image\n",
    "from tensorflow.keras.models import Sequential\n",
    "from tensorflow.keras.models import Model\n",
    "import matplotlib.pylab as plt\n",
    "import numpy as np"
   ]
  },
  {
   "cell_type": "code",
   "execution_count": 3,
   "metadata": {},
   "outputs": [
    {
     "name": "stdout",
     "output_type": "stream",
     "text": [
      "====================================================\n"
     ]
    }
   ],
   "source": [
    "img_height,img_width=(224,224)\n",
    "batch_size=12\n",
    "train_data_dir=r\"dataset\\train\"\n",
    "test_data_dir=r\"dataset\\train\"\n",
    "print(\"====================================================\")"
   ]
  },
  {
   "cell_type": "code",
   "execution_count": 4,
   "metadata": {},
   "outputs": [
    {
     "name": "stdout",
     "output_type": "stream",
     "text": [
      "Found 606 images belonging to 2 classes.\n",
      "Found 606 images belonging to 2 classes.\n"
     ]
    },
    {
     "data": {
      "text/plain": [
       "(1, 224, 224, 3)"
      ]
     },
     "execution_count": 4,
     "metadata": {},
     "output_type": "execute_result"
    }
   ],
   "source": [
    "train_datagen = ImageDataGenerator(preprocessing_function=preprocess_input,\n",
    "                                   shear_range = 0.2,\n",
    "                                   zoom_range = 0.2,\n",
    "                                   horizontal_flip = True,\n",
    "                                   validation_split=0.4)\n",
    "\n",
    "train_generator = train_datagen.flow_from_directory(train_data_dir,\n",
    "                                                target_size=(img_height,img_width),\n",
    "                                                batch_size=batch_size,\n",
    "                                                class_mode='categorical',\n",
    "                                                subset='validation')\n",
    "\n",
    "\n",
    "\n",
    "test_generator = train_datagen.flow_from_directory(test_data_dir,\n",
    "                                                target_size=(img_height,img_width),\n",
    "                                                batch_size=1,\n",
    "                                                class_mode='categorical',\n",
    "                                                subset='validation')\n",
    "x,y=test_generator.next()\n",
    "x.shape"
   ]
  },
  {
   "cell_type": "markdown",
   "metadata": {},
   "source": [
    "### **Rest net**"
   ]
  },
  {
   "cell_type": "code",
   "execution_count": 10,
   "metadata": {},
   "outputs": [
    {
     "name": "stdout",
     "output_type": "stream",
     "text": [
      "Epoch 1/5\n",
      "51/51 [==============================] - 158s 3s/step - loss: 1.2217 - accuracy: 0.7459 - val_loss: 0.1901 - val_accuracy: 0.9505\n",
      "Epoch 2/5\n",
      "51/51 [==============================] - 157s 3s/step - loss: 0.1421 - accuracy: 0.9488 - val_loss: 0.0696 - val_accuracy: 0.9818\n",
      "Epoch 3/5\n",
      "51/51 [==============================] - 158s 3s/step - loss: 0.0701 - accuracy: 0.9851 - val_loss: 0.0387 - val_accuracy: 0.9917\n",
      "Epoch 4/5\n",
      "51/51 [==============================] - 160s 3s/step - loss: 0.0267 - accuracy: 0.9967 - val_loss: 0.0321 - val_accuracy: 0.9917\n",
      "Epoch 5/5\n",
      "51/51 [==============================] - 157s 3s/step - loss: 0.0199 - accuracy: 0.9983 - val_loss: 0.0125 - val_accuracy: 0.9967\n"
     ]
    }
   ],
   "source": [
    "base_model=ResNet50(include_top=False,weights='imagenet')\n",
    "x=base_model.output\n",
    "x=GlobalAveragePooling2D()(x)\n",
    "x=Dense(1024,activation='relu')(x)\n",
    "predictions=Dense(train_generator.num_classes,activation='softmax')(x)\n",
    "model=Model(inputs=base_model.input,outputs=predictions)\n",
    "\n",
    "for layer in base_model.layers:\n",
    "    layer.trainable=False\n",
    "\n",
    "model.compile(optimizer='adam',loss='categorical_crossentropy',metrics=['accuracy'])\n",
    "history=model.fit(train_generator,\n",
    "          epochs=5,\n",
    "        validation_data=test_generator)"
   ]
  },
  {
   "cell_type": "code",
   "execution_count": 11,
   "metadata": {},
   "outputs": [
    {
     "name": "stderr",
     "output_type": "stream",
     "text": [
      "C:\\Users\\0819\\AppData\\Roaming\\Python\\Python310\\site-packages\\keras\\src\\engine\\training.py:3000: UserWarning: You are saving your model as an HDF5 file via `model.save()`. This file format is considered legacy. We recommend using instead the native Keras format, e.g. `model.save('my_model.keras')`.\n",
      "  saving_api.save_model(\n"
     ]
    }
   ],
   "source": [
    "# Save the trained model in .h5 format\n",
    "model.save(r\"resnet_model.h5\")"
   ]
  },
  {
   "cell_type": "code",
   "execution_count": 12,
   "metadata": {},
   "outputs": [
    {
     "name": "stdout",
     "output_type": "stream",
     "text": [
      "0.9966996908187866\n"
     ]
    }
   ],
   "source": [
    "vgg_acc=history.history['val_accuracy'][-1]\n",
    "print(vgg_acc)"
   ]
  },
  {
   "cell_type": "markdown",
   "metadata": {},
   "source": [
    "### **MobileNet**"
   ]
  },
  {
   "cell_type": "code",
   "execution_count": 13,
   "metadata": {},
   "outputs": [
    {
     "name": "stdout",
     "output_type": "stream",
     "text": [
      "Downloading data from https://storage.googleapis.com/tensorflow/keras-applications/mobilenet/mobilenet_1_0_224_tf_no_top.h5\n",
      "17225924/17225924 [==============================] - 3s 0us/step\n",
      "Epoch 1/5\n",
      "51/51 [==============================] - 100s 2s/step - loss: 0.6818 - accuracy: 0.7690 - val_loss: 0.2468 - val_accuracy: 0.9092\n",
      "Epoch 2/5\n",
      "51/51 [==============================] - 94s 2s/step - loss: 0.1938 - accuracy: 0.9307 - val_loss: 0.1016 - val_accuracy: 0.9785\n",
      "Epoch 3/5\n",
      "51/51 [==============================] - 92s 2s/step - loss: 0.1258 - accuracy: 0.9604 - val_loss: 0.0934 - val_accuracy: 0.9719\n",
      "Epoch 4/5\n",
      "51/51 [==============================] - 92s 2s/step - loss: 0.1752 - accuracy: 0.9208 - val_loss: 0.3463 - val_accuracy: 0.8399\n",
      "Epoch 5/5\n",
      "51/51 [==============================] - 89s 2s/step - loss: 0.0996 - accuracy: 0.9670 - val_loss: 0.0224 - val_accuracy: 0.9983\n"
     ]
    }
   ],
   "source": [
    "from tensorflow.keras.applications import MobileNet\n",
    "from tensorflow.keras.layers import GlobalAveragePooling2D, Dense\n",
    "from tensorflow.keras.models import Model\n",
    "from tensorflow.keras.optimizers import Adam\n",
    "from tensorflow.keras.preprocessing.image import ImageDataGenerator\n",
    "\n",
    "# Initialize the MobileNet model\n",
    "base_model = MobileNet(include_top=False, weights='imagenet', input_shape=(img_height, img_width, 3))\n",
    "\n",
    "# Add custom layers on top of MobileNet\n",
    "x = base_model.output\n",
    "x = GlobalAveragePooling2D()(x)\n",
    "x = Dense(1024, activation='relu')(x)\n",
    "predictions = Dense(train_generator.num_classes, activation='softmax')(x)\n",
    "\n",
    "# Define the complete model\n",
    "model = Model(inputs=base_model.input, outputs=predictions)\n",
    "\n",
    "# Freeze the layers of MobileNet to retain pre-trained weights\n",
    "for layer in base_model.layers:\n",
    "    layer.trainable = False\n",
    "\n",
    "# Compile the model\n",
    "model.compile(optimizer=Adam(), loss='categorical_crossentropy', metrics=['accuracy'])\n",
    "\n",
    "# Train the model\n",
    "history = model.fit(train_generator,\n",
    "                    epochs=5,\n",
    "                    validation_data=test_generator)\n",
    "\n",
    "# Save the trained model in .h5 format\n",
    "model.save(r\"mobilenet_model.h5\")\n"
   ]
  },
  {
   "cell_type": "code",
   "execution_count": 14,
   "metadata": {},
   "outputs": [
    {
     "name": "stdout",
     "output_type": "stream",
     "text": [
      "0.9983498454093933\n"
     ]
    }
   ],
   "source": [
    "mobilenet_acc=history.history['val_accuracy'][-1]\n",
    "print(mobilenet_acc)"
   ]
  },
  {
   "cell_type": "code",
   "execution_count": null,
   "metadata": {},
   "outputs": [
    {
     "name": "stdout",
     "output_type": "stream",
     "text": [
      "606/606 [==============================] - 52s 84ms/step\n",
      "              precision    recall  f1-score   support\n",
      "\n",
      "    negative       0.53      0.54      0.53       320\n",
      "    positive       0.48      0.47      0.47       286\n",
      "\n",
      "    accuracy                           0.51       606\n",
      "   macro avg       0.50      0.50      0.50       606\n",
      "weighted avg       0.51      0.51      0.51       606\n",
      "\n"
     ]
    }
   ],
   "source": [
    "from sklearn.metrics import classification_report #classification report gives precision, recall, and F1-score for each class.\n",
    "from tensorflow.keras.models import load_model\n",
    "import numpy as np\n",
    "# Load the trained MobileNet model\n",
    "model = load_model(r\"mobilenet_model.h5\")\n",
    "\n",
    "# Generate predictions on the test set\n",
    "predictions = model.predict(test_generator)\n",
    "\n",
    "# Get the predicted class indices\n",
    "predicted_classes = np.argmax(predictions, axis=1)\n",
    "\n",
    "# Get the true classes from the test generator\n",
    "true_classes = test_generator.classes\n",
    "\n",
    "# Get the class labels\n",
    "class_labels = list(test_generator.class_indices.keys())\n",
    "\n",
    "# Generate the classification report\n",
    "report = classification_report(true_classes, predicted_classes, target_names=class_labels)\n",
    "\n",
    "# Print the classification report\n",
    "print(report)"
   ]
  },
  {
   "cell_type": "markdown",
   "metadata": {},
   "source": [
    "### **DenseNet**"
   ]
  },
  {
   "cell_type": "code",
   "execution_count": 18,
   "metadata": {},
   "outputs": [
    {
     "name": "stdout",
     "output_type": "stream",
     "text": [
      "Epoch 1/5\n",
      "51/51 [==============================] - 173s 3s/step - loss: 3.9941 - accuracy: 0.5875 - val_loss: 1.6643 - val_accuracy: 0.5941\n",
      "Epoch 2/5\n",
      "51/51 [==============================] - 163s 3s/step - loss: 0.9787 - accuracy: 0.7492 - val_loss: 0.8955 - val_accuracy: 0.7822\n",
      "Epoch 3/5\n",
      "51/51 [==============================] - 161s 3s/step - loss: 0.7373 - accuracy: 0.7805 - val_loss: 0.4779 - val_accuracy: 0.8201\n",
      "Epoch 4/5\n",
      "51/51 [==============================] - 153s 3s/step - loss: 0.6949 - accuracy: 0.7921 - val_loss: 0.3691 - val_accuracy: 0.8564\n",
      "Epoch 5/5\n",
      "51/51 [==============================] - 155s 3s/step - loss: 0.2432 - accuracy: 0.8977 - val_loss: 0.2406 - val_accuracy: 0.9059\n"
     ]
    }
   ],
   "source": [
    "from tensorflow.keras.applications import DenseNet121\n",
    "# Load the DenseNet121 base model (without the top classification layers)\n",
    "base_model = DenseNet121(include_top=False, weights='imagenet', input_shape=(img_height, img_width, 3))\n",
    "\n",
    "# Add custom layers on top of the DenseNet model\n",
    "x = base_model.output\n",
    "x = GlobalAveragePooling2D()(x)  # Global pooling to reduce dimensions\n",
    "x = Dense(1024, activation='relu')(x)  # Fully connected layer with 1024 units\n",
    "predictions = Dense(train_generator.num_classes, activation='softmax')(x)  # Final output layer\n",
    "\n",
    "# Create the final model\n",
    "dense = Model(inputs=base_model.input, outputs=predictions)\n",
    "\n",
    "# Freeze the base model layers to retain pre-trained weights\n",
    "for layer in base_model.layers:\n",
    "    layer.trainable = False\n",
    "\n",
    "# Compile the model with Adam optimizer and categorical crossentropy loss\n",
    "dense.compile(optimizer=Adam(), loss='categorical_crossentropy', metrics=['accuracy'])\n",
    "\n",
    "# Train the model using the generators\n",
    "history = dense.fit(train_generator,\n",
    "                    epochs=5,\n",
    "                    validation_data=test_generator)\n"
   ]
  },
  {
   "cell_type": "code",
   "execution_count": 19,
   "metadata": {},
   "outputs": [
    {
     "name": "stderr",
     "output_type": "stream",
     "text": [
      "C:\\Users\\0819\\AppData\\Roaming\\Python\\Python310\\site-packages\\keras\\src\\engine\\training.py:3000: UserWarning: You are saving your model as an HDF5 file via `model.save()`. This file format is considered legacy. We recommend using instead the native Keras format, e.g. `model.save('my_model.keras')`.\n",
      "  saving_api.save_model(\n"
     ]
    }
   ],
   "source": [
    "# Save the trained model in .h5 format\n",
    "dense.save(r\"DenseNet_model.h5\")"
   ]
  },
  {
   "cell_type": "code",
   "execution_count": 20,
   "metadata": {},
   "outputs": [
    {
     "name": "stdout",
     "output_type": "stream",
     "text": [
      "0.905940592288971\n"
     ]
    }
   ],
   "source": [
    "densenet_acc=history.history['val_accuracy'][-1]\n",
    "print(densenet_acc)"
   ]
  },
  {
   "cell_type": "code",
   "execution_count": 6,
   "metadata": {},
   "outputs": [
    {
     "name": "stdout",
     "output_type": "stream",
     "text": [
      "606/606 [==============================] - 73s 117ms/step\n",
      "              precision    recall  f1-score   support\n",
      "\n",
      "    negative       0.53      0.63      0.58       320\n",
      "    positive       0.48      0.37      0.42       286\n",
      "\n",
      "    accuracy                           0.51       606\n",
      "   macro avg       0.50      0.50      0.50       606\n",
      "weighted avg       0.50      0.51      0.50       606\n",
      "\n"
     ]
    }
   ],
   "source": [
    "from sklearn.metrics import classification_report\n",
    "from tensorflow.keras.models import load_model\n",
    "import numpy as np\n",
    "# Load the trained MobileNet model\n",
    "model = load_model(r\"DenseNet_model.h5\")\n",
    "\n",
    "# Generate predictions on the test set\n",
    "predictions = model.predict(test_generator)\n",
    "\n",
    "# Get the predicted class indices\n",
    "predicted_classes = np.argmax(predictions, axis=1)\n",
    "\n",
    "# Get the true classes from the test generator\n",
    "true_classes = test_generator.classes\n",
    "\n",
    "# Get the class labels\n",
    "class_labels = list(test_generator.class_indices.keys())\n",
    "\n",
    "# Generate the classification report\n",
    "report = classification_report(true_classes, predicted_classes, target_names=class_labels)\n",
    "\n",
    "# Print the classification report\n",
    "print(report)"
   ]
  },
  {
   "cell_type": "markdown",
   "metadata": {},
   "source": [
    "### **CNN**"
   ]
  },
  {
   "cell_type": "code",
   "execution_count": null,
   "metadata": {},
   "outputs": [
    {
     "name": "stdout",
     "output_type": "stream",
     "text": [
      "Epoch 1/5\n",
      "51/51 [==============================] - 165s 3s/step - loss: 57.6119 - accuracy: 0.4917 - val_loss: 0.6927 - val_accuracy: 0.5281\n",
      "Epoch 2/5\n",
      "51/51 [==============================] - 163s 3s/step - loss: 0.6926 - accuracy: 0.5281 - val_loss: 0.6922 - val_accuracy: 0.5281\n",
      "Epoch 3/5\n",
      "51/51 [==============================] - 157s 3s/step - loss: 0.6923 - accuracy: 0.5281 - val_loss: 0.6920 - val_accuracy: 0.5281\n",
      "Epoch 4/5\n",
      "51/51 [==============================] - 151s 3s/step - loss: 0.6923 - accuracy: 0.5281 - val_loss: 0.6917 - val_accuracy: 0.5281\n",
      "Epoch 5/5\n",
      "51/51 [==============================] - 152s 3s/step - loss: 0.6918 - accuracy: 0.5281 - val_loss: 0.6917 - val_accuracy: 0.5281\n"
     ]
    }
   ],
   "source": [
    "from tensorflow.keras.models import Sequential\n",
    "from tensorflow.keras.layers import Conv2D, MaxPooling2D, Flatten, Dense, Dropout, GlobalAveragePooling2D\n",
    "from tensorflow.keras.optimizers import Adam\n",
    "\n",
    "# Building the CNN model\n",
    "cnn_model = Sequential()\n",
    "\n",
    "# First Convolutional Layer\n",
    "cnn_model.add(Conv2D(32, (3, 3), activation='relu', input_shape=(224, 224, 3)))\n",
    "cnn_model.add(MaxPooling2D(pool_size=(2, 2)))\n",
    "\n",
    "# Second Convolutional Layer\n",
    "cnn_model.add(Conv2D(64, (3, 3), activation='relu'))\n",
    "cnn_model.add(MaxPooling2D(pool_size=(2, 2)))\n",
    "\n",
    "# Third Convolutional Layer\n",
    "cnn_model.add(Conv2D(128, (3, 3), activation='relu'))\n",
    "cnn_model.add(MaxPooling2D(pool_size=(2, 2)))\n",
    "\n",
    "# Flattening the layers\n",
    "cnn_model.add(Flatten())\n",
    "\n",
    "# Fully Connected Layer using neurons \n",
    "cnn_model.add(Dense(1024, activation='relu'))\n",
    "cnn_model.add(Dropout(0.5))\n",
    "\n",
    "# Output Layer (Softmax for multi-class classification)\n",
    "cnn_model.add(Dense(train_generator.num_classes, activation='softmax'))\n",
    "\n",
    "# Compile the model\n",
    "cnn_model.compile(optimizer=Adam(), loss='categorical_crossentropy', metrics=['accuracy'])\n",
    "\n",
    "# Train the model\n",
    "history = cnn_model.fit(train_generator,\n",
    "                        epochs=5,\n",
    "                        validation_data=test_generator)\n"
   ]
  },
  {
   "cell_type": "code",
   "execution_count": 23,
   "metadata": {},
   "outputs": [
    {
     "name": "stderr",
     "output_type": "stream",
     "text": [
      "C:\\Users\\0819\\AppData\\Roaming\\Python\\Python310\\site-packages\\keras\\src\\engine\\training.py:3000: UserWarning: You are saving your model as an HDF5 file via `model.save()`. This file format is considered legacy. We recommend using instead the native Keras format, e.g. `model.save('my_model.keras')`.\n",
      "  saving_api.save_model(\n"
     ]
    }
   ],
   "source": [
    "# Save the trained model in .h5 format\n",
    "cnn_model.save(r\"cnn_model.h5\")"
   ]
  },
  {
   "cell_type": "code",
   "execution_count": 24,
   "metadata": {},
   "outputs": [
    {
     "name": "stdout",
     "output_type": "stream",
     "text": [
      "0.528052806854248\n"
     ]
    }
   ],
   "source": [
    "cnn_acc=history.history['val_accuracy'][-1]\n",
    "print(cnn_acc)"
   ]
  },
  {
   "cell_type": "code",
   "execution_count": null,
   "metadata": {},
   "outputs": [],
   "source": []
  }
 ],
 "metadata": {
  "kernelspec": {
   "display_name": "Python 3",
   "language": "python",
   "name": "python3"
  },
  "language_info": {
   "codemirror_mode": {
    "name": "ipython",
    "version": 3
   },
   "file_extension": ".py",
   "mimetype": "text/x-python",
   "name": "python",
   "nbconvert_exporter": "python",
   "pygments_lexer": "ipython3",
   "version": "3.10.8"
  }
 },
 "nbformat": 4,
 "nbformat_minor": 2
}
